{
 "cells": [
  {
   "cell_type": "markdown",
   "id": "6ecc48dd",
   "metadata": {},
   "source": [
    "# Data Science Tools and Ecosystem"
   ]
  },
  {
   "cell_type": "markdown",
   "id": "d500e91b",
   "metadata": {},
   "source": [
    "In this notebook, Data Science Tools and Ecosystem are summarized."
   ]
  },
  {
   "cell_type": "markdown",
   "id": "622ec885",
   "metadata": {},
   "source": [
    "Some of the popular languages that Data Scientists use are:\n",
    "\n",
    "1. Python\n",
    "2. Java\n",
    "3. R\n",
    "4. SQL"
   ]
  },
  {
   "cell_type": "markdown",
   "id": "849d51a9",
   "metadata": {},
   "source": [
    "Some of the commonly used libraries used by Data Scientists include:\n",
    "1. TensorFlow\n",
    "2. NumPy\n",
    "3. Matplotlib\n",
    "4. Pandas\n",
    "5. SciPy"
   ]
  },
  {
   "cell_type": "markdown",
   "id": "e0df0b16",
   "metadata": {},
   "source": [
    "| Data Science Tools |\n",
    "|------------|\n",
    "|Apache Spark|\n",
    "|Rstudio|\n",
    "|JupyterLab|\n",
    "|Weka|"
   ]
  },
  {
   "cell_type": "markdown",
   "id": "efc069b8",
   "metadata": {},
   "source": [
    "### Below are a few examples of evaluating arithmetic expressions in Python"
   ]
  },
  {
   "cell_type": "code",
   "execution_count": 5,
   "id": "0a12f6c0",
   "metadata": {},
   "outputs": [
    {
     "data": {
      "text/plain": [
       "17"
      ]
     },
     "execution_count": 5,
     "metadata": {},
     "output_type": "execute_result"
    }
   ],
   "source": [
    "#This a simple arithmetic expression to mutiply then add integers\n",
    "(3*4)+5"
   ]
  },
  {
   "cell_type": "code",
   "execution_count": 6,
   "id": "c6d7c23b",
   "metadata": {},
   "outputs": [
    {
     "name": "stdout",
     "output_type": "stream",
     "text": [
      "3.3333333333333335\n"
     ]
    }
   ],
   "source": [
    "# This will convert 200 minutes to hours by diving by 60\n",
    "minutes = 200\n",
    "hours = minutes / 60\n",
    "print(hours)"
   ]
  },
  {
   "cell_type": "markdown",
   "id": "65dc07e6",
   "metadata": {},
   "source": [
    "**Objectives:**\n",
    "- We have listed few popular languages that data scientists use such as python, SQL, R, Java.\n",
    "- TensorFlow, NumPy, Pandas, SciPy are some of the common libraries used by data scientists.\n",
    "- Tables has been created in Jupyter notebook in above cell.\n",
    "- Arithmetic operations are done in this notebook."
   ]
  },
  {
   "cell_type": "markdown",
   "id": "c87d627a",
   "metadata": {},
   "source": [
    "## Author\n",
    "M ABHIJEETH THAARAKARAAM"
   ]
  },
  {
   "cell_type": "code",
   "execution_count": null,
   "id": "d7837f2c",
   "metadata": {},
   "outputs": [],
   "source": []
  }
 ],
 "metadata": {
  "kernelspec": {
   "display_name": "Python 3 (ipykernel)",
   "language": "python",
   "name": "python3"
  },
  "language_info": {
   "codemirror_mode": {
    "name": "ipython",
    "version": 3
   },
   "file_extension": ".py",
   "mimetype": "text/x-python",
   "name": "python",
   "nbconvert_exporter": "python",
   "pygments_lexer": "ipython3",
   "version": "3.11.5"
  }
 },
 "nbformat": 4,
 "nbformat_minor": 5
}
